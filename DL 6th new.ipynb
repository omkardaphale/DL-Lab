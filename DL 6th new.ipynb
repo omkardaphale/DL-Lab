{
 "cells": [
  {
   "cell_type": "code",
   "execution_count": 3,
   "id": "77da7649-99a3-4892-9f72-40c683a03b34",
   "metadata": {},
   "outputs": [
    {
     "ename": "UnidentifiedImageError",
     "evalue": "cannot identify image file <_io.BytesIO object at 0x0000023A8B7CA070>",
     "output_type": "error",
     "traceback": [
      "\u001b[1;31m---------------------------------------------------------------------------\u001b[0m",
      "\u001b[1;31mUnidentifiedImageError\u001b[0m                    Traceback (most recent call last)",
      "Cell \u001b[1;32mIn[3], line 14\u001b[0m\n\u001b[0;32m     12\u001b[0m \u001b[38;5;66;03m# Load image from URL\u001b[39;00m\n\u001b[0;32m     13\u001b[0m response \u001b[38;5;241m=\u001b[39m requests\u001b[38;5;241m.\u001b[39mget(image_url)\n\u001b[1;32m---> 14\u001b[0m image \u001b[38;5;241m=\u001b[39m Image\u001b[38;5;241m.\u001b[39mopen(BytesIO(response\u001b[38;5;241m.\u001b[39mcontent))\u001b[38;5;241m.\u001b[39mresize((\u001b[38;5;241m224\u001b[39m, \u001b[38;5;241m224\u001b[39m))\n\u001b[0;32m     16\u001b[0m \u001b[38;5;66;03m# Convert the image pixels to a numpy array\u001b[39;00m\n\u001b[0;32m     17\u001b[0m image \u001b[38;5;241m=\u001b[39m img_to_array(image)\n",
      "File \u001b[1;32m~\\anaconda3\\Lib\\site-packages\\PIL\\Image.py:3283\u001b[0m, in \u001b[0;36mopen\u001b[1;34m(fp, mode, formats)\u001b[0m\n\u001b[0;32m   3281\u001b[0m     warnings\u001b[38;5;241m.\u001b[39mwarn(message)\n\u001b[0;32m   3282\u001b[0m msg \u001b[38;5;241m=\u001b[39m \u001b[38;5;124m\"\u001b[39m\u001b[38;5;124mcannot identify image file \u001b[39m\u001b[38;5;132;01m%r\u001b[39;00m\u001b[38;5;124m\"\u001b[39m \u001b[38;5;241m%\u001b[39m (filename \u001b[38;5;28;01mif\u001b[39;00m filename \u001b[38;5;28;01melse\u001b[39;00m fp)\n\u001b[1;32m-> 3283\u001b[0m \u001b[38;5;28;01mraise\u001b[39;00m UnidentifiedImageError(msg)\n",
      "\u001b[1;31mUnidentifiedImageError\u001b[0m: cannot identify image file <_io.BytesIO object at 0x0000023A8B7CA070>"
     ]
    }
   ],
   "source": [
    "import requests\n",
    "from PIL import Image\n",
    "from io import BytesIO\n",
    "from tensorflow.keras.applications.vgg16 import VGG16, preprocess_input, decode_predictions\n",
    "from tensorflow.keras.preprocessing.image import img_to_array, load_img\n",
    "import numpy as np\n",
    "import matplotlib.pyplot as plt\n",
    "\n",
    "# URL of the image\n",
    "image_url = 'https://unsplash.com/s/photos/taj-mahal'  # Replace with the actual image URL\n",
    "\n",
    "# Load image from URL\n",
    "response = requests.get(image_url)\n",
    "image = Image.open(BytesIO(response.content)).resize((224, 224))\n",
    "\n",
    "# Convert the image pixels to a numpy array\n",
    "image = img_to_array(image)\n",
    "# Reshape data for the model\n",
    "image = image.reshape((1, image.shape[0], image.shape[1], image.shape[2] ))\n",
    "# Prepare the image for the VGG model\n",
    "image = preprocess_input(image)\n",
    "\n",
    "# Load the model\n",
    "model = VGG16()\n",
    "# Predict the probability across all output classes\n",
    "yhat = model.predict(image)\n",
    "# Convert the probabilities to class labels\n",
    "label = decode_predictions(yhat)\n",
    "# Retrieve the most likely result, e.g., highest probability\n",
    "label = label[0][0]\n",
    "# Print the classification\n",
    "print('%s (%.2f%%)' % (label[1], label[2]*100))\n",
    "\n",
    "# Display the image\n",
    "img = np.array(Image.open(BytesIO(response.content)))\n",
    "plt.imshow(img)\n",
    "plt.axis('off')  # Turn off axis\n",
    "plt.show()\n"
   ]
  },
  {
   "cell_type": "code",
   "execution_count": null,
   "id": "1862ce74-619a-45f1-9e59-ae4a8c792610",
   "metadata": {},
   "outputs": [],
   "source": []
  },
  {
   "cell_type": "code",
   "execution_count": null,
   "id": "f4c6e836",
   "metadata": {},
   "outputs": [],
   "source": []
  }
 ],
 "metadata": {
  "kernelspec": {
   "display_name": "Python 3 (ipykernel)",
   "language": "python",
   "name": "python3"
  },
  "language_info": {
   "codemirror_mode": {
    "name": "ipython",
    "version": 3
   },
   "file_extension": ".py",
   "mimetype": "text/x-python",
   "name": "python",
   "nbconvert_exporter": "python",
   "pygments_lexer": "ipython3",
   "version": "3.11.5"
  }
 },
 "nbformat": 4,
 "nbformat_minor": 5
}
